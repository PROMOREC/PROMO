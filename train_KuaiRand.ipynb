{
 "cells": [
  {
   "cell_type": "code",
   "execution_count": 1,
   "id": "50d5fe50-d59d-4171-819f-40887b497dd7",
   "metadata": {
    "tags": []
   },
   "outputs": [],
   "source": [
    "import os\n",
    "import time\n",
    "import torch\n",
    "import argparse\n",
    "from torch.utils.data import DataLoader\n",
    "from tqdm import tqdm\n",
    "import numpy as np\n",
    "import json\n",
    "from copy import deepcopy\n",
    "\n",
    "from models.SASRec import SASRec\n",
    "\n",
    "from utils.utils import evaluate\n",
    "from data.MyDataset import MyDataset\n",
    "\n",
    "def str2bool(s):\n",
    "    if s not in {'false', 'true'}:\n",
    "        raise ValueError('Not a valid boolean string')\n",
    "    return s == 'true'\n",
    "\n",
    "parser = argparse.ArgumentParser()\n",
    "parser.add_argument('--dataset', default='KuaiRand', type=str)\n",
    "parser.add_argument('--train_dir', default='SASRec', type=str)\n",
    "parser.add_argument('--model_name', default='SASRec', type=str)\n",
    "parser.add_argument('--exp_name', default='base', type=str)\n",
    "parser.add_argument('--batch_size', default=128, type=int)\n",
    "parser.add_argument('--lr', default=0.001, type=float)\n",
    "parser.add_argument('--maxlen', default=50, type=int)\n",
    "parser.add_argument('--embed_dim', default=16, type=int)\n",
    "parser.add_argument('--num_epochs', default=30, type=int)\n",
    "parser.add_argument('--num_test_neg_item', default=100, type=int)\n",
    "parser.add_argument('--dropout_rate', default=0.5, type=float)\n",
    "parser.add_argument('--l2_emb', default=0.0, type=float)\n",
    "parser.add_argument('--enable_feature_embedding_l2_norm', action='store_true', default=False)\n",
    "parser.add_argument('--device', default='cuda:0', type=str)\n",
    "parser.add_argument('--inference_only', default=False, type=str2bool)\n",
    "parser.add_argument('--state_dict_path', default=None, type=str)\n",
    "parser.add_argument('--pretrain_model_path', default=None, type=str)\n",
    "parser.add_argument('--save_freq', default=5, type=int)\n",
    "parser.add_argument('--val_freq', default=1, type=int)\n",
    "\n",
    "args = parser.parse_known_args()[0]\n",
    "save_dir = os.path.join(args.dataset + '_' + args.train_dir, args.exp_name)\n",
    "if not os.path.isdir(args.dataset + '_' + args.train_dir):\n",
    "    os.makedirs(args.dataset + '_' + args.train_dir)\n",
    "if not os.path.isdir(save_dir):\n",
    "    os.makedirs(save_dir)\n",
    "with open(os.path.join(save_dir, 'args.txt'), 'a') as f:\n",
    "    f.write(time.strftime(\"%Y-%m-%d %H:%M:%S\", time.localtime()) + '\\n')\n",
    "    f.write('\\n'.join([str(k) + ',' + str(v) for k, v in sorted(vars(args).items(), key=lambda x: x[0])]))\n",
    "f.close()\n"
   ]
  },
  {
   "cell_type": "code",
   "execution_count": 2,
   "id": "fbf9d90c-a231-4445-900d-f881feb45a79",
   "metadata": {
    "tags": []
   },
   "outputs": [
    {
     "name": "stdout",
     "output_type": "stream",
     "text": [
      "number of users: 27285 number of items: 7583\n"
     ]
    }
   ],
   "source": [
    "# dataset\n",
    "dataset_train = MyDataset(data_dir='data/' + args.dataset,\n",
    "                                                max_length=args.maxlen, mode='train', device=args.device)\n",
    "dataset_valid = MyDataset(data_dir='data/' + args.dataset,\n",
    "                                                max_length=args.maxlen, mode='val', neg_num=args.num_test_neg_item, device=args.device)\n",
    "dataset_test = MyDataset(data_dir='data/' + args.dataset,\n",
    "                                               max_length=args.maxlen, mode='test', neg_num=args.num_test_neg_item, device=args.device)\n",
    "\n",
    "usernum = dataset_train.user_num\n",
    "itemnum = dataset_train.item_num\n",
    "user_features_dim = dataset_train.user_features_dim\n",
    "item_features_dim = dataset_train.item_features_dim\n",
    "print('number of users: %d' % usernum, 'number of items: %d' % itemnum)\n",
    "\n",
    "config = {'embed_dim': args.embed_dim,\n",
    "          'dim_config': {'item_id': itemnum+1, 'user_id': usernum+1,\n",
    "                         'item_feature': item_features_dim, 'user_feature': user_features_dim},\n",
    "          'device': args.device,\n",
    "          'maxlen': args.maxlen}\n",
    "dataset_meta_data = json.load(open(os.path.join('data', 'dataset_meta_data.json'), 'r'))\n",
    "config['item_feature'] = dataset_meta_data[args.dataset]['item_feature']\n",
    "config['user_feature'] = dataset_meta_data[args.dataset]['user_feature']\n",
    "\n",
    "if args.model_name == \"SASRec\":\n",
    "    model = SASRec(config).to(args.device)\n",
    "else:\n",
    "    raise ValueError(\"model name not supported\")\n",
    "f = open(os.path.join(save_dir, 'log.txt'), 'a')\n",
    "f.write(time.strftime(\"%Y-%m-%d %H:%M:%S\", time.localtime()) +' model: ' + args.model_name + '\\n')\n",
    "\n",
    "for name, param in model.named_parameters():\n",
    "    try:\n",
    "        torch.nn.init.xavier_normal_(param.data)\n",
    "    except:\n",
    "        pass  # just ignore those failed init layers\n",
    "\n",
    "model.train()  # enable model training\n",
    "\n",
    "epoch_start_idx = 1\n",
    "if args.state_dict_path is not None:\n",
    "    try:\n",
    "        model.load_state_dict(torch.load(args.state_dict_path, map_location=torch.device(args.device)))\n",
    "        tail = args.state_dict_path[args.state_dict_path.find('epoch=') + 6:]\n",
    "        epoch_start_idx = int(tail[:tail.find('.')]) + 1\n",
    "    except:  # in case your pytorch version is not 1.6 etc., pls debug by pdb if load weights failed\n",
    "        print('failed loading state_dicts, pls check file path: ', end=\"\")\n",
    "        print(args.state_dict_path)\n",
    "        print('pdb enabled for your quick check, pls type exit() if you do not need it')\n",
    "        import pdb\n",
    "\n",
    "        pdb.set_trace()\n",
    "\n",
    "if args.inference_only:\n",
    "    model.eval()\n",
    "    t_test = evaluate(model, dataset_test, args)\n",
    "    print('test (NDCG@10: %.4f, HR@10: %.4f)' % (t_test[0], t_test[1]))\n",
    "\n",
    "bce_criterion = torch.nn.BCEWithLogitsLoss()  # torch.nn.BCELoss()\n",
    "adam_optimizer = torch.optim.Adam(model.parameters(), lr=args.lr, betas=(0.9, 0.98))"
   ]
  },
  {
   "cell_type": "code",
   "execution_count": 3,
   "id": "3df2b3d0-9136-4887-b9dc-04b1a7520867",
   "metadata": {
    "tags": []
   },
   "outputs": [
    {
     "name": "stderr",
     "output_type": "stream",
     "text": [
      "Epoch 1/30: 100%|██████████| 6720/6720 [06:42<00:00, 16.69it/s, loss=0.594]\n"
     ]
    },
    {
     "name": "stdout",
     "output_type": "stream",
     "text": [
      "Epoch: 1, loss: 0.5943119777810006\n",
      "Evaluating"
     ]
    },
    {
     "name": "stderr",
     "output_type": "stream",
     "text": [
      "Testing Progress: 100%|██████████| 16246/16246 [00:49<00:00, 325.72it/s]\n",
      "Testing Progress: 100%|██████████| 16246/16246 [00:49<00:00, 327.20it/s]\n"
     ]
    },
    {
     "name": "stdout",
     "output_type": "stream",
     "text": [
      "epoch:1, time: 402.757097(s), valid (NDCG@10: 0.2619, HR@10: 0.4493), test (NDCG@10: 0.2475, HR@10: 0.4271)\n"
     ]
    },
    {
     "name": "stderr",
     "output_type": "stream",
     "text": [
      "Epoch 2/30: 100%|██████████| 6720/6720 [06:31<00:00, 17.17it/s, loss=0.475]\n"
     ]
    },
    {
     "name": "stdout",
     "output_type": "stream",
     "text": [
      "Epoch: 2, loss: 0.4748755453243142\n",
      "Evaluating"
     ]
    },
    {
     "name": "stderr",
     "output_type": "stream",
     "text": [
      "Testing Progress: 100%|██████████| 16246/16246 [00:49<00:00, 329.07it/s]\n",
      "Testing Progress: 100%|██████████| 16246/16246 [00:49<00:00, 329.53it/s]\n"
     ]
    },
    {
     "name": "stdout",
     "output_type": "stream",
     "text": [
      "epoch:2, time: 794.151038(s), valid (NDCG@10: 0.3622, HR@10: 0.5571), test (NDCG@10: 0.3404, HR@10: 0.5321)\n"
     ]
    },
    {
     "name": "stderr",
     "output_type": "stream",
     "text": [
      "Epoch 3/30: 100%|██████████| 6720/6720 [06:37<00:00, 16.90it/s, loss=0.406]\n"
     ]
    },
    {
     "name": "stdout",
     "output_type": "stream",
     "text": [
      "Epoch: 3, loss: 0.40632349552941466\n",
      "Evaluating"
     ]
    },
    {
     "name": "stderr",
     "output_type": "stream",
     "text": [
      "Testing Progress: 100%|██████████| 16246/16246 [00:48<00:00, 336.25it/s]\n",
      "Testing Progress: 100%|██████████| 16246/16246 [00:48<00:00, 338.06it/s]\n"
     ]
    },
    {
     "name": "stdout",
     "output_type": "stream",
     "text": [
      "epoch:3, time: 1191.807371(s), valid (NDCG@10: 0.4284, HR@10: 0.6259), test (NDCG@10: 0.4114, HR@10: 0.6070)\n"
     ]
    },
    {
     "name": "stderr",
     "output_type": "stream",
     "text": [
      "Epoch 4/30: 100%|██████████| 6720/6720 [06:40<00:00, 16.76it/s, loss=0.364]\n"
     ]
    },
    {
     "name": "stdout",
     "output_type": "stream",
     "text": [
      "Epoch: 4, loss: 0.3639306865455139\n",
      "Evaluating"
     ]
    },
    {
     "name": "stderr",
     "output_type": "stream",
     "text": [
      "Testing Progress: 100%|██████████| 16246/16246 [00:50<00:00, 323.76it/s]\n",
      "Testing Progress: 100%|██████████| 16246/16246 [00:50<00:00, 321.15it/s]\n"
     ]
    },
    {
     "name": "stdout",
     "output_type": "stream",
     "text": [
      "epoch:4, time: 1592.792153(s), valid (NDCG@10: 0.4795, HR@10: 0.6787), test (NDCG@10: 0.4670, HR@10: 0.6666)\n"
     ]
    },
    {
     "name": "stderr",
     "output_type": "stream",
     "text": [
      "Epoch 5/30: 100%|██████████| 6720/6720 [06:40<00:00, 16.77it/s, loss=0.33] \n"
     ]
    },
    {
     "name": "stdout",
     "output_type": "stream",
     "text": [
      "Epoch: 5, loss: 0.330317017963777\n",
      "Evaluating"
     ]
    },
    {
     "name": "stderr",
     "output_type": "stream",
     "text": [
      "Testing Progress: 100%|██████████| 16246/16246 [00:49<00:00, 329.99it/s]\n",
      "Testing Progress: 100%|██████████| 16246/16246 [00:50<00:00, 323.82it/s]\n"
     ]
    },
    {
     "name": "stdout",
     "output_type": "stream",
     "text": [
      "epoch:5, time: 1993.437807(s), valid (NDCG@10: 0.5238, HR@10: 0.7159), test (NDCG@10: 0.5146, HR@10: 0.7079)\n"
     ]
    },
    {
     "name": "stderr",
     "output_type": "stream",
     "text": [
      "Epoch 6/30: 100%|██████████| 6720/6720 [06:35<00:00, 17.00it/s, loss=0.304]\n"
     ]
    },
    {
     "name": "stdout",
     "output_type": "stream",
     "text": [
      "Epoch: 6, loss: 0.3042045105891746\n",
      "Evaluating"
     ]
    },
    {
     "name": "stderr",
     "output_type": "stream",
     "text": [
      "Testing Progress: 100%|██████████| 16246/16246 [00:49<00:00, 329.45it/s]\n",
      "Testing Progress: 100%|██████████| 16246/16246 [00:50<00:00, 320.01it/s]\n"
     ]
    },
    {
     "name": "stdout",
     "output_type": "stream",
     "text": [
      "epoch:6, time: 2388.759275(s), valid (NDCG@10: 0.5480, HR@10: 0.7402), test (NDCG@10: 0.5369, HR@10: 0.7322)\n"
     ]
    },
    {
     "name": "stderr",
     "output_type": "stream",
     "text": [
      "Epoch 7/30: 100%|██████████| 6720/6720 [06:38<00:00, 16.87it/s, loss=0.284]\n"
     ]
    },
    {
     "name": "stdout",
     "output_type": "stream",
     "text": [
      "Epoch: 7, loss: 0.28374927680540296\n",
      "Evaluating"
     ]
    },
    {
     "name": "stderr",
     "output_type": "stream",
     "text": [
      "Testing Progress: 100%|██████████| 16246/16246 [00:51<00:00, 316.20it/s]\n",
      "Testing Progress: 100%|██████████| 16246/16246 [00:51<00:00, 314.08it/s]\n"
     ]
    },
    {
     "name": "stdout",
     "output_type": "stream",
     "text": [
      "epoch:7, time: 2787.036921(s), valid (NDCG@10: 0.6108, HR@10: 0.7955), test (NDCG@10: 0.6061, HR@10: 0.7953)\n"
     ]
    },
    {
     "name": "stderr",
     "output_type": "stream",
     "text": [
      "Epoch 8/30: 100%|██████████| 6720/6720 [06:40<00:00, 16.79it/s, loss=0.268]\n"
     ]
    },
    {
     "name": "stdout",
     "output_type": "stream",
     "text": [
      "Epoch: 8, loss: 0.26835589683171185\n",
      "Evaluating"
     ]
    },
    {
     "name": "stderr",
     "output_type": "stream",
     "text": [
      "Testing Progress: 100%|██████████| 16246/16246 [00:52<00:00, 309.83it/s]\n",
      "Testing Progress: 100%|██████████| 16246/16246 [00:51<00:00, 315.55it/s]\n"
     ]
    },
    {
     "name": "stdout",
     "output_type": "stream",
     "text": [
      "epoch:8, time: 3187.254682(s), valid (NDCG@10: 0.6225, HR@10: 0.8035), test (NDCG@10: 0.6198, HR@10: 0.8060)\n"
     ]
    },
    {
     "name": "stderr",
     "output_type": "stream",
     "text": [
      "Epoch 9/30: 100%|██████████| 6720/6720 [06:40<00:00, 16.77it/s, loss=0.256]\n"
     ]
    },
    {
     "name": "stdout",
     "output_type": "stream",
     "text": [
      "Epoch: 9, loss: 0.2562243962837827\n",
      "Evaluating"
     ]
    },
    {
     "name": "stderr",
     "output_type": "stream",
     "text": [
      "Testing Progress: 100%|██████████| 16246/16246 [00:49<00:00, 328.77it/s]\n",
      "Testing Progress: 100%|██████████| 16246/16246 [00:49<00:00, 325.51it/s]\n"
     ]
    },
    {
     "name": "stdout",
     "output_type": "stream",
     "text": [
      "epoch:9, time: 3587.962383(s), valid (NDCG@10: 0.6316, HR@10: 0.8157), test (NDCG@10: 0.6305, HR@10: 0.8195)\n"
     ]
    },
    {
     "name": "stderr",
     "output_type": "stream",
     "text": [
      "Epoch 10/30: 100%|██████████| 6720/6720 [06:31<00:00, 17.19it/s, loss=0.247]\n"
     ]
    },
    {
     "name": "stdout",
     "output_type": "stream",
     "text": [
      "Epoch: 10, loss: 0.24691892678938096\n",
      "Evaluating"
     ]
    },
    {
     "name": "stderr",
     "output_type": "stream",
     "text": [
      "Testing Progress: 100%|██████████| 16246/16246 [00:49<00:00, 326.13it/s]\n",
      "Testing Progress: 100%|██████████| 16246/16246 [00:50<00:00, 321.91it/s]\n"
     ]
    },
    {
     "name": "stdout",
     "output_type": "stream",
     "text": [
      "epoch:10, time: 3978.972747(s), valid (NDCG@10: 0.6520, HR@10: 0.8348), test (NDCG@10: 0.6518, HR@10: 0.8392)\n"
     ]
    },
    {
     "name": "stderr",
     "output_type": "stream",
     "text": [
      "Epoch 11/30: 100%|██████████| 6720/6720 [06:43<00:00, 16.64it/s, loss=0.239] \n"
     ]
    },
    {
     "name": "stdout",
     "output_type": "stream",
     "text": [
      "Epoch: 11, loss: 0.23926775578764223\n",
      "Evaluating"
     ]
    },
    {
     "name": "stderr",
     "output_type": "stream",
     "text": [
      "Testing Progress: 100%|██████████| 16246/16246 [00:49<00:00, 326.09it/s]\n",
      "Testing Progress: 100%|██████████| 16246/16246 [00:49<00:00, 328.99it/s]\n"
     ]
    },
    {
     "name": "stdout",
     "output_type": "stream",
     "text": [
      "epoch:11, time: 4382.944421(s), valid (NDCG@10: 0.6759, HR@10: 0.8499), test (NDCG@10: 0.6767, HR@10: 0.8506)\n"
     ]
    },
    {
     "name": "stderr",
     "output_type": "stream",
     "text": [
      "Epoch 12/30: 100%|██████████| 6720/6720 [06:40<00:00, 16.76it/s, loss=0.233]\n"
     ]
    },
    {
     "name": "stdout",
     "output_type": "stream",
     "text": [
      "Epoch: 12, loss: 0.23293206347596077\n",
      "Evaluating"
     ]
    },
    {
     "name": "stderr",
     "output_type": "stream",
     "text": [
      "Testing Progress: 100%|██████████| 16246/16246 [00:51<00:00, 316.60it/s]\n",
      "Testing Progress: 100%|██████████| 16246/16246 [00:49<00:00, 330.48it/s]\n"
     ]
    },
    {
     "name": "stdout",
     "output_type": "stream",
     "text": [
      "epoch:12, time: 4783.786896(s), valid (NDCG@10: 0.6644, HR@10: 0.8451), test (NDCG@10: 0.6644, HR@10: 0.8488)\n"
     ]
    },
    {
     "name": "stderr",
     "output_type": "stream",
     "text": [
      "Epoch 13/30: 100%|██████████| 6720/6720 [06:36<00:00, 16.93it/s, loss=0.228]\n"
     ]
    },
    {
     "name": "stdout",
     "output_type": "stream",
     "text": [
      "Epoch: 13, loss: 0.22817182075454012\n",
      "Evaluating"
     ]
    },
    {
     "name": "stderr",
     "output_type": "stream",
     "text": [
      "Testing Progress: 100%|██████████| 16246/16246 [00:50<00:00, 322.01it/s]\n",
      "Testing Progress: 100%|██████████| 16246/16246 [00:49<00:00, 330.38it/s]\n"
     ]
    },
    {
     "name": "stdout",
     "output_type": "stream",
     "text": [
      "epoch:13, time: 5180.790293(s), valid (NDCG@10: 0.6796, HR@10: 0.8579), test (NDCG@10: 0.6802, HR@10: 0.8614)\n"
     ]
    },
    {
     "name": "stderr",
     "output_type": "stream",
     "text": [
      "Epoch 14/30: 100%|██████████| 6720/6720 [06:42<00:00, 16.68it/s, loss=0.224]\n"
     ]
    },
    {
     "name": "stdout",
     "output_type": "stream",
     "text": [
      "Epoch: 14, loss: 0.2237279602991683\n",
      "Evaluating"
     ]
    },
    {
     "name": "stderr",
     "output_type": "stream",
     "text": [
      "Testing Progress: 100%|██████████| 16246/16246 [00:49<00:00, 326.87it/s]\n",
      "Testing Progress: 100%|██████████| 16246/16246 [00:49<00:00, 328.22it/s]\n"
     ]
    },
    {
     "name": "stdout",
     "output_type": "stream",
     "text": [
      "epoch:14, time: 5583.680254(s), valid (NDCG@10: 0.6896, HR@10: 0.8648), test (NDCG@10: 0.6953, HR@10: 0.8710)\n"
     ]
    },
    {
     "name": "stderr",
     "output_type": "stream",
     "text": [
      "Epoch 15/30: 100%|██████████| 6720/6720 [06:36<00:00, 16.94it/s, loss=0.22] \n"
     ]
    },
    {
     "name": "stdout",
     "output_type": "stream",
     "text": [
      "Epoch: 15, loss: 0.2200871231411362\n",
      "Evaluating"
     ]
    },
    {
     "name": "stderr",
     "output_type": "stream",
     "text": [
      "Testing Progress: 100%|██████████| 16246/16246 [00:48<00:00, 336.57it/s]\n",
      "Testing Progress: 100%|██████████| 16246/16246 [00:49<00:00, 330.80it/s]\n"
     ]
    },
    {
     "name": "stdout",
     "output_type": "stream",
     "text": [
      "epoch:15, time: 5980.481388(s), valid (NDCG@10: 0.6887, HR@10: 0.8669), test (NDCG@10: 0.6901, HR@10: 0.8696)\n"
     ]
    },
    {
     "name": "stderr",
     "output_type": "stream",
     "text": [
      "Epoch 16/30: 100%|██████████| 6720/6720 [06:35<00:00, 16.98it/s, loss=0.216]\n"
     ]
    },
    {
     "name": "stdout",
     "output_type": "stream",
     "text": [
      "Epoch: 16, loss: 0.21644590911233708\n",
      "Evaluating"
     ]
    },
    {
     "name": "stderr",
     "output_type": "stream",
     "text": [
      "Testing Progress: 100%|██████████| 16246/16246 [00:49<00:00, 326.99it/s]\n",
      "Testing Progress: 100%|██████████| 16246/16246 [00:50<00:00, 323.75it/s]\n"
     ]
    },
    {
     "name": "stdout",
     "output_type": "stream",
     "text": [
      "epoch:16, time: 6376.145421(s), valid (NDCG@10: 0.6878, HR@10: 0.8675), test (NDCG@10: 0.6898, HR@10: 0.8701)\n"
     ]
    },
    {
     "name": "stderr",
     "output_type": "stream",
     "text": [
      "Epoch 17/30: 100%|██████████| 6720/6720 [06:31<00:00, 17.18it/s, loss=0.214]\n"
     ]
    },
    {
     "name": "stdout",
     "output_type": "stream",
     "text": [
      "Epoch: 17, loss: 0.21356970450419577\n",
      "Evaluating"
     ]
    },
    {
     "name": "stderr",
     "output_type": "stream",
     "text": [
      "Testing Progress: 100%|██████████| 16246/16246 [00:48<00:00, 335.87it/s]\n",
      "Testing Progress: 100%|██████████| 16246/16246 [00:48<00:00, 331.92it/s]\n"
     ]
    },
    {
     "name": "stdout",
     "output_type": "stream",
     "text": [
      "epoch:17, time: 6767.188799(s), valid (NDCG@10: 0.7052, HR@10: 0.8772), test (NDCG@10: 0.7074, HR@10: 0.8822)\n"
     ]
    },
    {
     "name": "stderr",
     "output_type": "stream",
     "text": [
      "Epoch 18/30: 100%|██████████| 6720/6720 [06:28<00:00, 17.31it/s, loss=0.21] \n"
     ]
    },
    {
     "name": "stdout",
     "output_type": "stream",
     "text": [
      "Epoch: 18, loss: 0.2103037401601406\n",
      "Evaluating"
     ]
    },
    {
     "name": "stderr",
     "output_type": "stream",
     "text": [
      "Testing Progress: 100%|██████████| 16246/16246 [00:49<00:00, 327.10it/s]\n",
      "Testing Progress: 100%|██████████| 16246/16246 [00:49<00:00, 328.07it/s]\n"
     ]
    },
    {
     "name": "stdout",
     "output_type": "stream",
     "text": [
      "epoch:18, time: 7155.454564(s), valid (NDCG@10: 0.7052, HR@10: 0.8819), test (NDCG@10: 0.7114, HR@10: 0.8877)\n"
     ]
    },
    {
     "name": "stderr",
     "output_type": "stream",
     "text": [
      "Epoch 19/30: 100%|██████████| 6720/6720 [06:38<00:00, 16.88it/s, loss=0.207] \n"
     ]
    },
    {
     "name": "stdout",
     "output_type": "stream",
     "text": [
      "Epoch: 19, loss: 0.2073871019795271\n",
      "Evaluating"
     ]
    },
    {
     "name": "stderr",
     "output_type": "stream",
     "text": [
      "Testing Progress: 100%|██████████| 16246/16246 [00:47<00:00, 339.98it/s]\n",
      "Testing Progress: 100%|██████████| 16246/16246 [00:47<00:00, 341.68it/s]\n"
     ]
    },
    {
     "name": "stdout",
     "output_type": "stream",
     "text": [
      "epoch:19, time: 7553.557741(s), valid (NDCG@10: 0.6998, HR@10: 0.8819), test (NDCG@10: 0.7037, HR@10: 0.8848)\n"
     ]
    },
    {
     "name": "stderr",
     "output_type": "stream",
     "text": [
      "Epoch 20/30: 100%|██████████| 6720/6720 [06:26<00:00, 17.40it/s, loss=0.205]\n"
     ]
    },
    {
     "name": "stdout",
     "output_type": "stream",
     "text": [
      "Epoch: 20, loss: 0.2051906251537037\n",
      "Evaluating"
     ]
    },
    {
     "name": "stderr",
     "output_type": "stream",
     "text": [
      "Testing Progress: 100%|██████████| 16246/16246 [00:49<00:00, 329.01it/s]\n",
      "Testing Progress: 100%|██████████| 16246/16246 [00:49<00:00, 328.49it/s]\n"
     ]
    },
    {
     "name": "stdout",
     "output_type": "stream",
     "text": [
      "epoch:20, time: 7939.794104(s), valid (NDCG@10: 0.7161, HR@10: 0.8919), test (NDCG@10: 0.7224, HR@10: 0.8914)\n"
     ]
    },
    {
     "name": "stderr",
     "output_type": "stream",
     "text": [
      "Epoch 21/30: 100%|██████████| 6720/6720 [06:23<00:00, 17.53it/s, loss=0.203]\n"
     ]
    },
    {
     "name": "stdout",
     "output_type": "stream",
     "text": [
      "Epoch: 21, loss: 0.20289034288088303\n",
      "Evaluating"
     ]
    },
    {
     "name": "stderr",
     "output_type": "stream",
     "text": [
      "Testing Progress: 100%|██████████| 16246/16246 [00:49<00:00, 328.55it/s]\n",
      "Testing Progress: 100%|██████████| 16246/16246 [00:49<00:00, 331.10it/s]\n"
     ]
    },
    {
     "name": "stdout",
     "output_type": "stream",
     "text": [
      "epoch:21, time: 8323.178794(s), valid (NDCG@10: 0.7188, HR@10: 0.8951), test (NDCG@10: 0.7241, HR@10: 0.8923)\n"
     ]
    },
    {
     "name": "stderr",
     "output_type": "stream",
     "text": [
      "Epoch 22/30: 100%|██████████| 6720/6720 [06:32<00:00, 17.10it/s, loss=0.201]  \n"
     ]
    },
    {
     "name": "stdout",
     "output_type": "stream",
     "text": [
      "Epoch: 22, loss: 0.20101142636877262\n",
      "Evaluating"
     ]
    },
    {
     "name": "stderr",
     "output_type": "stream",
     "text": [
      "Testing Progress: 100%|██████████| 16246/16246 [00:48<00:00, 333.31it/s]\n",
      "Testing Progress: 100%|██████████| 16246/16246 [00:48<00:00, 336.75it/s]\n"
     ]
    },
    {
     "name": "stdout",
     "output_type": "stream",
     "text": [
      "epoch:22, time: 8716.167949(s), valid (NDCG@10: 0.7246, HR@10: 0.8959), test (NDCG@10: 0.7248, HR@10: 0.8934)\n"
     ]
    },
    {
     "name": "stderr",
     "output_type": "stream",
     "text": [
      "Epoch 23/30: 100%|██████████| 6720/6720 [06:31<00:00, 17.18it/s, loss=0.199]\n"
     ]
    },
    {
     "name": "stdout",
     "output_type": "stream",
     "text": [
      "Epoch: 23, loss: 0.19932631102523635\n",
      "Evaluating"
     ]
    },
    {
     "name": "stderr",
     "output_type": "stream",
     "text": [
      "Testing Progress: 100%|██████████| 16246/16246 [00:49<00:00, 328.86it/s]\n",
      "Testing Progress: 100%|██████████| 16246/16246 [00:50<00:00, 324.38it/s]\n"
     ]
    },
    {
     "name": "stdout",
     "output_type": "stream",
     "text": [
      "epoch:23, time: 9107.391410(s), valid (NDCG@10: 0.7240, HR@10: 0.8963), test (NDCG@10: 0.7191, HR@10: 0.8866)\n"
     ]
    },
    {
     "name": "stderr",
     "output_type": "stream",
     "text": [
      "Epoch 24/30: 100%|██████████| 6720/6720 [06:35<00:00, 16.98it/s, loss=0.198]\n"
     ]
    },
    {
     "name": "stdout",
     "output_type": "stream",
     "text": [
      "Epoch: 24, loss: 0.19768432127755312\n",
      "Evaluating"
     ]
    },
    {
     "name": "stderr",
     "output_type": "stream",
     "text": [
      "Testing Progress: 100%|██████████| 16246/16246 [00:49<00:00, 327.12it/s]\n",
      "Testing Progress: 100%|██████████| 16246/16246 [00:49<00:00, 327.11it/s]\n"
     ]
    },
    {
     "name": "stdout",
     "output_type": "stream",
     "text": [
      "epoch:24, time: 9503.173908(s), valid (NDCG@10: 0.7288, HR@10: 0.9019), test (NDCG@10: 0.7226, HR@10: 0.8928)\n"
     ]
    },
    {
     "name": "stderr",
     "output_type": "stream",
     "text": [
      "Epoch 25/30: 100%|██████████| 6720/6720 [07:05<00:00, 15.78it/s, loss=0.196]  \n"
     ]
    },
    {
     "name": "stdout",
     "output_type": "stream",
     "text": [
      "Epoch: 25, loss: 0.19608289341420113\n",
      "Evaluating"
     ]
    },
    {
     "name": "stderr",
     "output_type": "stream",
     "text": [
      "Testing Progress: 100%|██████████| 16246/16246 [00:52<00:00, 311.31it/s]\n",
      "Testing Progress: 100%|██████████| 16246/16246 [00:51<00:00, 317.62it/s]\n"
     ]
    },
    {
     "name": "stdout",
     "output_type": "stream",
     "text": [
      "epoch:25, time: 9929.162880(s), valid (NDCG@10: 0.7262, HR@10: 0.8942), test (NDCG@10: 0.7217, HR@10: 0.8920)\n"
     ]
    },
    {
     "name": "stderr",
     "output_type": "stream",
     "text": [
      "Epoch 28/30: 100%|██████████| 6720/6720 [06:37<00:00, 16.89it/s, loss=0.191]\n"
     ]
    },
    {
     "name": "stdout",
     "output_type": "stream",
     "text": [
      "Epoch: 28, loss: 0.19148626672325744\n",
      "Evaluating"
     ]
    },
    {
     "name": "stderr",
     "output_type": "stream",
     "text": [
      "Testing Progress: 100%|██████████| 16246/16246 [00:50<00:00, 324.29it/s]\n",
      "Testing Progress: 100%|██████████| 16246/16246 [00:49<00:00, 327.36it/s]\n"
     ]
    },
    {
     "name": "stdout",
     "output_type": "stream",
     "text": [
      "epoch:28, time: 11147.968685(s), valid (NDCG@10: 0.7235, HR@10: 0.8936), test (NDCG@10: 0.7194, HR@10: 0.8901)\n"
     ]
    },
    {
     "name": "stderr",
     "output_type": "stream",
     "text": [
      "Epoch 29/30: 100%|██████████| 6720/6720 [06:56<00:00, 16.12it/s, loss=0.191]  \n"
     ]
    },
    {
     "name": "stdout",
     "output_type": "stream",
     "text": [
      "Epoch: 29, loss: 0.19088502048536957\n",
      "Evaluating"
     ]
    },
    {
     "name": "stderr",
     "output_type": "stream",
     "text": [
      "Testing Progress: 100%|██████████| 16246/16246 [00:48<00:00, 337.04it/s]\n",
      "Testing Progress: 100%|██████████| 16246/16246 [00:49<00:00, 329.60it/s]\n"
     ]
    },
    {
     "name": "stdout",
     "output_type": "stream",
     "text": [
      "epoch:29, time: 11564.723861(s), valid (NDCG@10: 0.7236, HR@10: 0.8999), test (NDCG@10: 0.7163, HR@10: 0.8891)\n"
     ]
    },
    {
     "name": "stderr",
     "output_type": "stream",
     "text": [
      "Epoch 30/30: 100%|██████████| 6720/6720 [06:41<00:00, 16.75it/s, loss=0.19] \n"
     ]
    },
    {
     "name": "stdout",
     "output_type": "stream",
     "text": [
      "Epoch: 30, loss: 0.18965126179003466\n",
      "Evaluating"
     ]
    },
    {
     "name": "stderr",
     "output_type": "stream",
     "text": [
      "Testing Progress: 100%|██████████| 16246/16246 [00:49<00:00, 326.38it/s]\n",
      "Testing Progress: 100%|██████████| 16246/16246 [00:49<00:00, 330.49it/s]"
     ]
    },
    {
     "name": "stdout",
     "output_type": "stream",
     "text": [
      "epoch:30, time: 11966.015810(s), valid (NDCG@10: 0.7259, HR@10: 0.8950), test (NDCG@10: 0.7223, HR@10: 0.8923)\n",
      "best epoch: 24, best NDCG@10: 0.7225888570011661, best HR@10: 0.8928351594238581\n",
      "Done\n"
     ]
    },
    {
     "name": "stderr",
     "output_type": "stream",
     "text": [
      "\n"
     ]
    }
   ],
   "source": [
    "T = 0.0\n",
    "t0 = time.time()\n",
    "best_val_HR = 0.0\n",
    "best_val_NDCG = 0.0\n",
    "best_HR = 0.0\n",
    "best_NDCG = 0.0\n",
    "best_epoch = -1\n",
    "best_state_dict = None\n",
    "\n",
    "for epoch in range(epoch_start_idx, args.num_epochs + 1):\n",
    "    if args.inference_only: break  # just to decrease identition\n",
    "    dataloader = DataLoader(dataset_train, batch_size=args.batch_size, shuffle=True)\n",
    "    step = 0\n",
    "    epoch_loss = 0.0\n",
    "    train_loop = tqdm(dataloader, desc=\"Training Progress\")\n",
    "    for data in train_loop:\n",
    "        step += 1\n",
    "        user_id, history_items, history_items_len, target_item_id, \\\n",
    "            user_features, item_features, label, cold_item = data\n",
    "\n",
    "        logits = model(user_id, target_item_id, history_items, history_items_len, user_features, item_features)\n",
    "        if args.model_name == \"CB2CF\":\n",
    "            logits, loss_mse = logits\n",
    "\n",
    "        adam_optimizer.zero_grad()\n",
    "        loss = bce_criterion(logits, label)\n",
    "\n",
    "        if 'item_embedding' in model.state_dict().keys():\n",
    "            for param in model.item_embedding.parameters():\n",
    "                loss += args.l2_emb * torch.norm(param)\n",
    "        if 'user_embedding' in model.state_dict().keys():\n",
    "            for param in model.user_embedding.parameters():\n",
    "                loss += args.l2_emb * torch.norm(param)\n",
    "        if args.enable_feature_embedding_l2_norm:\n",
    "            for name in model.state_dict().keys():\n",
    "                if 'item_fm_2nd_order_sparse_emb' in name or 'user_fm_2nd_order_sparse_emb' in name:\n",
    "                    loss += args.l2_emb * torch.norm(model.state_dict()[name])\n",
    "\n",
    "        if args.model_name == \"CB2CF\":\n",
    "            loss +=  loss_mse * args.CB2CF_alpha\n",
    "\n",
    "        loss.backward()\n",
    "        adam_optimizer.step()\n",
    "        epoch_loss += loss.item()\n",
    "        train_loop.set_description(\"Epoch {}/{}\".format(epoch, args.num_epochs))\n",
    "        train_loop.set_postfix(loss=epoch_loss/step)\n",
    "\n",
    "    print(\"Epoch: {}, loss: {}\".format(epoch, epoch_loss / step))\n",
    "\n",
    "\n",
    "    if epoch % args.val_freq == 0:\n",
    "        model.eval()\n",
    "        t1 = time.time() - t0\n",
    "        T += t1\n",
    "        print('Evaluating', end='')\n",
    "        t_test = evaluate(model, dataset_test, args)\n",
    "        t_valid = evaluate(model, dataset_valid, args)\n",
    "        print('epoch:%d, time: %f(s), valid (NDCG@10: %.4f, HR@10: %.4f), test (NDCG@10: %.4f, HR@10: %.4f)'\n",
    "              % (epoch, T, t_valid[0], t_valid[1], t_test[0], t_test[1]))\n",
    "\n",
    "        if t_valid[1] > best_val_HR:\n",
    "            best_val_HR = t_valid[1]\n",
    "            best_HR = t_test[1]\n",
    "            best_NDCG = t_test[0]\n",
    "            best_epoch = epoch\n",
    "            best_state_dict = deepcopy(model.state_dict())\n",
    "\n",
    "        f.write(str(t_valid) + ' ' + str(t_test) + '\\n')\n",
    "        f.flush()\n",
    "        t0 = time.time()\n",
    "        model.train()\n",
    "\n",
    "    if epoch % args.save_freq == 0 or epoch == args.num_epochs:\n",
    "        folder = save_dir\n",
    "        fname = 'epoch={}.lr={}.embed_dim={}.maxlen={}.l2_emb={}.pth'\n",
    "        fname = fname.format(epoch, args.lr, args.embed_dim,\n",
    "                             args.maxlen, args.l2_emb)\n",
    "        torch.save(model.state_dict(), os.path.join(folder, fname))\n",
    "\n",
    "f.write(\"best epoch: {}, best NDCG@10: {}, best HR@10: {}\".format(best_epoch, best_NDCG, best_HR) + '\\n')\n",
    "f.close()\n",
    "print(\"best epoch: {}, best NDCG@10: {}, best HR@10: {}\".format(best_epoch, best_NDCG, best_HR))\n",
    "torch.save(best_state_dict, os.path.join(save_dir, 'best.pth'))\n",
    "print(\"Done\")"
   ]
  },
  {
   "cell_type": "code",
   "execution_count": 11,
   "id": "86e97c7b-622a-47fe-9c6a-d632dcd37f84",
   "metadata": {},
   "outputs": [],
   "source": [
    "from models.DSSM import DSSM, DSSM_SASRec\n",
    "\n",
    "parser = argparse.ArgumentParser()\n",
    "parser.add_argument('--dataset', default='KuaiRand', type=str)\n",
    "parser.add_argument('--train_dir', default='DSSM_SASRec', type=str)\n",
    "parser.add_argument('--model_name', default='DSSM_SASRec', type=str)\n",
    "parser.add_argument('--exp_name', default='base', type=str)\n",
    "parser.add_argument('--batch_size', default=128, type=int)\n",
    "parser.add_argument('--lr', default=0.001, type=float)\n",
    "parser.add_argument('--maxlen', default=50, type=int)\n",
    "parser.add_argument('--embed_dim', default=16, type=int)\n",
    "parser.add_argument('--num_epochs', default=30, type=int)\n",
    "parser.add_argument('--num_test_neg_item', default=100, type=int)\n",
    "parser.add_argument('--dropout_rate', default=0.5, type=float)\n",
    "parser.add_argument('--l2_emb', default=0.0, type=float)\n",
    "parser.add_argument('--device', default='cpu', type=str)\n",
    "parser.add_argument('--inference_only', default=False, type=str2bool)\n",
    "parser.add_argument('--state_dict_path', default=None, type=str)\n",
    "parser.add_argument('--pretrain_model_path', default='KuaiRand_SASRec/base/best.pth', type=str)\n",
    "parser.add_argument('--save_freq', default=5, type=int)\n",
    "parser.add_argument('--val_freq', default=1, type=int)\n",
    "\n",
    "args = parser.parse_known_args()[0]\n",
    "save_dir = os.path.join(args.dataset + '_' + args.train_dir, args.exp_name)\n",
    "if not os.path.isdir(args.dataset + '_' + args.train_dir):\n",
    "    os.makedirs(args.dataset + '_' + args.train_dir)\n",
    "if not os.path.isdir(save_dir):\n",
    "    os.makedirs(save_dir)\n",
    "with open(os.path.join(save_dir, 'args.txt'), 'a') as f:\n",
    "    f.write(time.strftime(\"%Y-%m-%d %H:%M:%S\", time.localtime()) + '\\n')\n",
    "    f.write('\\n'.join([str(k) + ',' + str(v) for k, v in sorted(vars(args).items(), key=lambda x: x[0])]))\n",
    "f.close()"
   ]
  },
  {
   "cell_type": "code",
   "execution_count": 12,
   "id": "a09cda8a-7b37-43e0-a96a-203d059985dd",
   "metadata": {
    "tags": []
   },
   "outputs": [
    {
     "name": "stdout",
     "output_type": "stream",
     "text": [
      "number of users: 27285 number of items: 7583\n"
     ]
    }
   ],
   "source": [
    "# dataset\n",
    "dataset_train = MyDataset(data_dir='data/' + args.dataset,\n",
    "                                                max_length=args.maxlen, mode='train', device=args.device)\n",
    "dataset_valid = MyDataset(data_dir='data/' + args.dataset,\n",
    "                                                max_length=args.maxlen, mode='val', neg_num=args.num_test_neg_item, device=args.device)\n",
    "dataset_test = MyDataset(data_dir='data/' + args.dataset,\n",
    "                                               max_length=args.maxlen, mode='test', neg_num=args.num_test_neg_item, device=args.device)\n",
    "\n",
    "usernum = dataset_train.user_num\n",
    "itemnum = dataset_train.item_num\n",
    "user_features_dim = dataset_train.user_features_dim\n",
    "item_features_dim = dataset_train.item_features_dim\n",
    "print('number of users: %d' % usernum, 'number of items: %d' % itemnum)\n",
    "\n",
    "config = {'embed_dim': args.embed_dim,\n",
    "          'dim_config': {'item_id': itemnum+1, 'user_id': usernum+1,\n",
    "                         'item_feature': item_features_dim, 'user_feature': user_features_dim},\n",
    "          'device': args.device,\n",
    "          'maxlen': args.maxlen}\n",
    "dataset_meta_data = json.load(open(os.path.join('data', 'dataset_meta_data.json'), 'r'))\n",
    "config['item_feature'] = dataset_meta_data[args.dataset]['item_feature']\n",
    "config['user_feature'] = dataset_meta_data[args.dataset]['user_feature']\n",
    "\n",
    "if args.model_name == \"DSSM\":\n",
    "    model = DSSM(config).to(args.device)\n",
    "elif args.model_name == \"DSSM_SASRec\":\n",
    "    model = DSSM_SASRec(config).to(args.device)\n",
    "else:\n",
    "    raise ValueError(\"model name not supported\")\n",
    "f = open(os.path.join(save_dir, 'log.txt'), 'a')\n",
    "f.write(time.strftime(\"%Y-%m-%d %H:%M:%S\", time.localtime()) + ' model: ' + args.model_name + '\\n')\n",
    "\n",
    "for name, param in model.named_parameters():\n",
    "    try:\n",
    "        torch.nn.init.xavier_normal_(param.data)\n",
    "    except:\n",
    "        pass  # just ignore those failed init layers\n",
    "\n",
    "model.train()  # enable model training\n",
    "\n",
    "epoch_start_idx = 1\n",
    "if args.state_dict_path is not None:\n",
    "    try:\n",
    "        model.load_state_dict(torch.load(args.state_dict_path, map_location=torch.device(args.device)))\n",
    "        tail = args.state_dict_path[args.state_dict_path.find('epoch=') + 6:]\n",
    "        epoch_start_idx = int(tail[:tail.find('.')]) + 1\n",
    "    except:  # in case your pytorch version is not 1.6 etc., pls debug by pdb if load weights failed\n",
    "        print('failed loading state_dicts, pls check file path: ', end=\"\")\n",
    "        print(args.state_dict_path)\n",
    "        print('pdb enabled for your quick check, pls type exit() if you do not need it')\n",
    "        import pdb\n",
    "\n",
    "        pdb.set_trace()\n",
    "\n",
    "if args.model_name == \"DSSM_SASRec\":\n",
    "    model.load_and_freeze_backbone(args.pretrain_model_path, True)\n",
    "\n",
    "if args.inference_only:\n",
    "    model.eval()\n",
    "    t_test = evaluate(model, dataset_test, args)\n",
    "    print('test (NDCG@10: %.4f, HR@10: %.4f)' % (t_test[0], t_test[1]))\n",
    "\n",
    "bce_criterion = torch.nn.BCEWithLogitsLoss()  # torch.nn.BCELoss()\n",
    "adam_optimizer = torch.optim.Adam(model.parameters(), lr=args.lr, betas=(0.9, 0.98))"
   ]
  },
  {
   "cell_type": "code",
   "execution_count": 13,
   "id": "4f2871da-18ca-4017-8129-3978a03de9ac",
   "metadata": {
    "tags": []
   },
   "outputs": [
    {
     "name": "stderr",
     "output_type": "stream",
     "text": [
      "Epoch 1/30: 100%|██████████| 6720/6720 [05:13<00:00, 21.44it/s, loss=2.83]\n"
     ]
    },
    {
     "name": "stdout",
     "output_type": "stream",
     "text": [
      "Epoch: 1, loss: 2.829629444432933\n",
      "Evaluating"
     ]
    },
    {
     "name": "stderr",
     "output_type": "stream",
     "text": [
      "Testing Progress: 100%|██████████| 16246/16246 [01:29<00:00, 181.06it/s]\n",
      "Testing Progress: 100%|██████████| 16246/16246 [01:29<00:00, 180.80it/s]\n"
     ]
    },
    {
     "name": "stdout",
     "output_type": "stream",
     "text": [
      "epoch:1, time: 313.456668(s), valid (NDCG@10: 0.2922, HR@10: 0.4978), test (NDCG@10: 0.2865, HR@10: 0.4890)\n"
     ]
    },
    {
     "name": "stderr",
     "output_type": "stream",
     "text": [
      "Epoch 2/30: 100%|██████████| 6720/6720 [05:04<00:00, 22.08it/s, loss=0.399]\n"
     ]
    },
    {
     "name": "stdout",
     "output_type": "stream",
     "text": [
      "Epoch: 2, loss: 0.39895208475756505\n",
      "Evaluating"
     ]
    },
    {
     "name": "stderr",
     "output_type": "stream",
     "text": [
      "Testing Progress: 100%|██████████| 16246/16246 [01:29<00:00, 180.71it/s]\n",
      "Testing Progress: 100%|██████████| 16246/16246 [01:29<00:00, 180.53it/s]\n"
     ]
    },
    {
     "name": "stdout",
     "output_type": "stream",
     "text": [
      "epoch:2, time: 617.810035(s), valid (NDCG@10: 0.5827, HR@10: 0.8060), test (NDCG@10: 0.5768, HR@10: 0.8059)\n"
     ]
    },
    {
     "name": "stderr",
     "output_type": "stream",
     "text": [
      "Epoch 3/30: 100%|██████████| 6720/6720 [05:33<00:00, 20.14it/s, loss=0.278]  \n"
     ]
    },
    {
     "name": "stdout",
     "output_type": "stream",
     "text": [
      "Epoch: 3, loss: 0.27793825713008463\n",
      "Evaluating"
     ]
    },
    {
     "name": "stderr",
     "output_type": "stream",
     "text": [
      "Testing Progress: 100%|██████████| 16246/16246 [01:33<00:00, 174.65it/s]\n",
      "Testing Progress: 100%|██████████| 16246/16246 [01:32<00:00, 175.23it/s]\n"
     ]
    },
    {
     "name": "stdout",
     "output_type": "stream",
     "text": [
      "epoch:3, time: 951.451113(s), valid (NDCG@10: 0.6799, HR@10: 0.8794), test (NDCG@10: 0.6831, HR@10: 0.8815)\n"
     ]
    },
    {
     "name": "stderr",
     "output_type": "stream",
     "text": [
      "Epoch 4/30: 100%|██████████| 6720/6720 [05:16<00:00, 21.26it/s, loss=0.237]\n"
     ]
    },
    {
     "name": "stdout",
     "output_type": "stream",
     "text": [
      "Epoch: 4, loss: 0.23736233823888359\n",
      "Evaluating"
     ]
    },
    {
     "name": "stderr",
     "output_type": "stream",
     "text": [
      "Testing Progress: 100%|██████████| 16246/16246 [01:31<00:00, 177.18it/s]\n",
      "Testing Progress: 100%|██████████| 16246/16246 [01:33<00:00, 173.31it/s]\n"
     ]
    },
    {
     "name": "stdout",
     "output_type": "stream",
     "text": [
      "epoch:4, time: 1267.518937(s), valid (NDCG@10: 0.6946, HR@10: 0.8862), test (NDCG@10: 0.6973, HR@10: 0.8881)\n"
     ]
    },
    {
     "name": "stderr",
     "output_type": "stream",
     "text": [
      "Epoch 5/30: 100%|██████████| 6720/6720 [05:15<00:00, 21.32it/s, loss=0.215]\n"
     ]
    },
    {
     "name": "stdout",
     "output_type": "stream",
     "text": [
      "Epoch: 5, loss: 0.21527653516026302\n",
      "Evaluating"
     ]
    },
    {
     "name": "stderr",
     "output_type": "stream",
     "text": [
      "Testing Progress: 100%|██████████| 16246/16246 [01:32<00:00, 174.69it/s]\n",
      "Testing Progress: 100%|██████████| 16246/16246 [01:31<00:00, 176.73it/s]\n"
     ]
    },
    {
     "name": "stdout",
     "output_type": "stream",
     "text": [
      "epoch:5, time: 1582.742317(s), valid (NDCG@10: 0.7191, HR@10: 0.9009), test (NDCG@10: 0.7223, HR@10: 0.9032)\n"
     ]
    },
    {
     "name": "stderr",
     "output_type": "stream",
     "text": [
      "Epoch 6/30: 100%|██████████| 6720/6720 [05:21<00:00, 20.91it/s, loss=0.19] \n"
     ]
    },
    {
     "name": "stdout",
     "output_type": "stream",
     "text": [
      "Epoch: 6, loss: 0.19023522901171375\n",
      "Evaluating"
     ]
    },
    {
     "name": "stderr",
     "output_type": "stream",
     "text": [
      "Testing Progress: 100%|██████████| 16246/16246 [01:34<00:00, 171.11it/s]\n",
      "Testing Progress: 100%|██████████| 16246/16246 [01:31<00:00, 177.52it/s]\n"
     ]
    },
    {
     "name": "stdout",
     "output_type": "stream",
     "text": [
      "epoch:6, time: 1904.106864(s), valid (NDCG@10: 0.7376, HR@10: 0.9056), test (NDCG@10: 0.7434, HR@10: 0.9103)\n"
     ]
    },
    {
     "name": "stderr",
     "output_type": "stream",
     "text": [
      "Epoch 7/30: 100%|██████████| 6720/6720 [05:02<00:00, 22.19it/s, loss=0.178]\n"
     ]
    },
    {
     "name": "stdout",
     "output_type": "stream",
     "text": [
      "Epoch: 7, loss: 0.17767662538736614\n",
      "Evaluating"
     ]
    },
    {
     "name": "stderr",
     "output_type": "stream",
     "text": [
      "Testing Progress: 100%|██████████| 16246/16246 [01:34<00:00, 171.92it/s]\n",
      "Testing Progress: 100%|██████████| 16246/16246 [01:31<00:00, 178.31it/s]\n"
     ]
    },
    {
     "name": "stdout",
     "output_type": "stream",
     "text": [
      "epoch:7, time: 2206.913358(s), valid (NDCG@10: 0.7355, HR@10: 0.9060), test (NDCG@10: 0.7432, HR@10: 0.9109)\n"
     ]
    },
    {
     "name": "stderr",
     "output_type": "stream",
     "text": [
      "Epoch 8/30: 100%|██████████| 6720/6720 [05:13<00:00, 21.41it/s, loss=0.171]\n"
     ]
    },
    {
     "name": "stdout",
     "output_type": "stream",
     "text": [
      "Epoch: 8, loss: 0.1713966232508288\n",
      "Evaluating"
     ]
    },
    {
     "name": "stderr",
     "output_type": "stream",
     "text": [
      "Testing Progress: 100%|██████████| 16246/16246 [01:36<00:00, 167.86it/s]\n",
      "Testing Progress: 100%|██████████| 16246/16246 [01:35<00:00, 169.39it/s]\n"
     ]
    },
    {
     "name": "stdout",
     "output_type": "stream",
     "text": [
      "epoch:8, time: 2520.730755(s), valid (NDCG@10: 0.7074, HR@10: 0.8898), test (NDCG@10: 0.7166, HR@10: 0.8974)\n"
     ]
    },
    {
     "name": "stderr",
     "output_type": "stream",
     "text": [
      "Epoch 9/30: 100%|██████████| 6720/6720 [05:17<00:00, 21.20it/s, loss=0.168]\n"
     ]
    },
    {
     "name": "stdout",
     "output_type": "stream",
     "text": [
      "Epoch: 9, loss: 0.16844463790101663\n",
      "Evaluating"
     ]
    },
    {
     "name": "stderr",
     "output_type": "stream",
     "text": [
      "Testing Progress: 100%|██████████| 16246/16246 [01:33<00:00, 172.95it/s]\n",
      "Testing Progress: 100%|██████████| 16246/16246 [01:33<00:00, 173.65it/s]\n"
     ]
    },
    {
     "name": "stdout",
     "output_type": "stream",
     "text": [
      "epoch:9, time: 2837.781378(s), valid (NDCG@10: 0.7199, HR@10: 0.8978), test (NDCG@10: 0.7323, HR@10: 0.9067)\n"
     ]
    },
    {
     "name": "stderr",
     "output_type": "stream",
     "text": [
      "Epoch 10/30: 100%|██████████| 6720/6720 [05:05<00:00, 22.00it/s, loss=0.165]\n"
     ]
    },
    {
     "name": "stdout",
     "output_type": "stream",
     "text": [
      "Epoch: 10, loss: 0.16541925523917944\n",
      "Evaluating"
     ]
    },
    {
     "name": "stderr",
     "output_type": "stream",
     "text": [
      "Testing Progress: 100%|██████████| 16246/16246 [01:34<00:00, 172.50it/s]\n",
      "Testing Progress: 100%|██████████| 16246/16246 [01:32<00:00, 176.24it/s]\n"
     ]
    },
    {
     "name": "stdout",
     "output_type": "stream",
     "text": [
      "epoch:10, time: 3143.283726(s), valid (NDCG@10: 0.7015, HR@10: 0.8877), test (NDCG@10: 0.7143, HR@10: 0.8977)\n"
     ]
    },
    {
     "name": "stderr",
     "output_type": "stream",
     "text": [
      "Epoch 11/30: 100%|██████████| 6720/6720 [04:57<00:00, 22.62it/s, loss=0.163]\n"
     ]
    },
    {
     "name": "stdout",
     "output_type": "stream",
     "text": [
      "Epoch: 11, loss: 0.16294786393908517\n",
      "Evaluating"
     ]
    },
    {
     "name": "stderr",
     "output_type": "stream",
     "text": [
      "Testing Progress: 100%|██████████| 16246/16246 [01:32<00:00, 174.78it/s]\n",
      "Testing Progress: 100%|██████████| 16246/16246 [01:33<00:00, 174.62it/s]\n"
     ]
    },
    {
     "name": "stdout",
     "output_type": "stream",
     "text": [
      "epoch:11, time: 3440.394305(s), valid (NDCG@10: 0.6913, HR@10: 0.8837), test (NDCG@10: 0.7064, HR@10: 0.8922)\n"
     ]
    },
    {
     "name": "stderr",
     "output_type": "stream",
     "text": [
      "Epoch 12/30: 100%|██████████| 6720/6720 [05:28<00:00, 20.43it/s, loss=0.161]\n"
     ]
    },
    {
     "name": "stdout",
     "output_type": "stream",
     "text": [
      "Epoch: 12, loss: 0.16110188372993087\n",
      "Evaluating"
     ]
    },
    {
     "name": "stderr",
     "output_type": "stream",
     "text": [
      "Testing Progress: 100%|██████████| 16246/16246 [01:34<00:00, 171.10it/s]\n",
      "Testing Progress: 100%|██████████| 16246/16246 [01:31<00:00, 177.37it/s]\n"
     ]
    },
    {
     "name": "stdout",
     "output_type": "stream",
     "text": [
      "epoch:12, time: 3769.307729(s), valid (NDCG@10: 0.6913, HR@10: 0.8858), test (NDCG@10: 0.7078, HR@10: 0.8953)\n"
     ]
    },
    {
     "name": "stderr",
     "output_type": "stream",
     "text": [
      "Epoch 13/30: 100%|██████████| 6720/6720 [05:19<00:00, 21.05it/s, loss=0.16] \n"
     ]
    },
    {
     "name": "stdout",
     "output_type": "stream",
     "text": [
      "Epoch: 13, loss: 0.15961876103454933\n",
      "Evaluating"
     ]
    },
    {
     "name": "stderr",
     "output_type": "stream",
     "text": [
      "Testing Progress: 100%|██████████| 16246/16246 [01:33<00:00, 173.77it/s]\n",
      "Testing Progress: 100%|██████████| 16246/16246 [01:30<00:00, 178.96it/s]\n"
     ]
    },
    {
     "name": "stdout",
     "output_type": "stream",
     "text": [
      "epoch:13, time: 4088.512648(s), valid (NDCG@10: 0.6765, HR@10: 0.8752), test (NDCG@10: 0.6928, HR@10: 0.8862)\n"
     ]
    },
    {
     "name": "stderr",
     "output_type": "stream",
     "text": [
      "Epoch 14/30: 100%|██████████| 6720/6720 [05:11<00:00, 21.60it/s, loss=0.158]\n"
     ]
    },
    {
     "name": "stdout",
     "output_type": "stream",
     "text": [
      "Epoch: 14, loss: 0.15757585056347861\n",
      "Evaluating"
     ]
    },
    {
     "name": "stderr",
     "output_type": "stream",
     "text": [
      "Testing Progress: 100%|██████████| 16246/16246 [01:31<00:00, 178.40it/s]\n",
      "Testing Progress: 100%|██████████| 16246/16246 [01:31<00:00, 178.11it/s]\n"
     ]
    },
    {
     "name": "stdout",
     "output_type": "stream",
     "text": [
      "epoch:14, time: 4399.566756(s), valid (NDCG@10: 0.6706, HR@10: 0.8730), test (NDCG@10: 0.6869, HR@10: 0.8846)\n"
     ]
    },
    {
     "name": "stderr",
     "output_type": "stream",
     "text": [
      "Epoch 15/30: 100%|██████████| 6720/6720 [04:59<00:00, 22.45it/s, loss=0.157]\n"
     ]
    },
    {
     "name": "stdout",
     "output_type": "stream",
     "text": [
      "Epoch: 15, loss: 0.15694398954288946\n",
      "Evaluating"
     ]
    },
    {
     "name": "stderr",
     "output_type": "stream",
     "text": [
      "Testing Progress: 100%|██████████| 16246/16246 [01:30<00:00, 178.95it/s]\n",
      "Testing Progress: 100%|██████████| 16246/16246 [01:30<00:00, 179.00it/s]\n"
     ]
    },
    {
     "name": "stdout",
     "output_type": "stream",
     "text": [
      "epoch:15, time: 4698.879168(s), valid (NDCG@10: 0.6730, HR@10: 0.8754), test (NDCG@10: 0.6913, HR@10: 0.8858)\n"
     ]
    },
    {
     "name": "stderr",
     "output_type": "stream",
     "text": [
      "Epoch 16/30: 100%|██████████| 6720/6720 [05:04<00:00, 22.04it/s, loss=0.156]  \n"
     ]
    },
    {
     "name": "stdout",
     "output_type": "stream",
     "text": [
      "Epoch: 16, loss: 0.15613689052295826\n",
      "Evaluating"
     ]
    },
    {
     "name": "stderr",
     "output_type": "stream",
     "text": [
      "Testing Progress: 100%|██████████| 16246/16246 [01:28<00:00, 183.00it/s]\n",
      "Testing Progress: 100%|██████████| 16246/16246 [01:31<00:00, 176.91it/s]\n"
     ]
    },
    {
     "name": "stdout",
     "output_type": "stream",
     "text": [
      "epoch:16, time: 5003.825975(s), valid (NDCG@10: 0.6650, HR@10: 0.8698), test (NDCG@10: 0.6839, HR@10: 0.8813)\n"
     ]
    },
    {
     "name": "stderr",
     "output_type": "stream",
     "text": [
      "Epoch 17/30: 100%|██████████| 6720/6720 [05:02<00:00, 22.23it/s, loss=0.155]\n"
     ]
    },
    {
     "name": "stdout",
     "output_type": "stream",
     "text": [
      "Epoch: 17, loss: 0.15515189134027987\n",
      "Evaluating"
     ]
    },
    {
     "name": "stderr",
     "output_type": "stream",
     "text": [
      "Testing Progress: 100%|██████████| 16246/16246 [01:33<00:00, 172.91it/s]\n",
      "Testing Progress: 100%|██████████| 16246/16246 [01:30<00:00, 180.38it/s]\n"
     ]
    },
    {
     "name": "stdout",
     "output_type": "stream",
     "text": [
      "epoch:17, time: 5306.117367(s), valid (NDCG@10: 0.6656, HR@10: 0.8703), test (NDCG@10: 0.6867, HR@10: 0.8862)\n"
     ]
    },
    {
     "name": "stderr",
     "output_type": "stream",
     "text": [
      "Epoch 18/30: 100%|██████████| 6720/6720 [05:09<00:00, 21.70it/s, loss=0.154] \n"
     ]
    },
    {
     "name": "stdout",
     "output_type": "stream",
     "text": [
      "Epoch: 18, loss: 0.15376702022539185\n",
      "Evaluating"
     ]
    },
    {
     "name": "stderr",
     "output_type": "stream",
     "text": [
      "Testing Progress: 100%|██████████| 16246/16246 [01:31<00:00, 177.76it/s]\n",
      "Testing Progress: 100%|██████████| 16246/16246 [01:31<00:00, 177.42it/s]\n"
     ]
    },
    {
     "name": "stdout",
     "output_type": "stream",
     "text": [
      "epoch:18, time: 5615.732340(s), valid (NDCG@10: 0.6579, HR@10: 0.8640), test (NDCG@10: 0.6754, HR@10: 0.8758)\n"
     ]
    },
    {
     "name": "stderr",
     "output_type": "stream",
     "text": [
      "Epoch 19/30: 100%|██████████| 6720/6720 [05:04<00:00, 22.06it/s, loss=0.153]\n"
     ]
    },
    {
     "name": "stdout",
     "output_type": "stream",
     "text": [
      "Epoch: 19, loss: 0.15317800731198597\n",
      "Evaluating"
     ]
    },
    {
     "name": "stderr",
     "output_type": "stream",
     "text": [
      "Testing Progress: 100%|██████████| 16246/16246 [01:34<00:00, 172.31it/s]\n",
      "Testing Progress: 100%|██████████| 16246/16246 [01:30<00:00, 179.12it/s]\n"
     ]
    },
    {
     "name": "stdout",
     "output_type": "stream",
     "text": [
      "epoch:19, time: 5920.377351(s), valid (NDCG@10: 0.6526, HR@10: 0.8602), test (NDCG@10: 0.6713, HR@10: 0.8726)\n"
     ]
    },
    {
     "name": "stderr",
     "output_type": "stream",
     "text": [
      "Epoch 20/30: 100%|██████████| 6720/6720 [05:06<00:00, 21.94it/s, loss=0.153]\n"
     ]
    },
    {
     "name": "stdout",
     "output_type": "stream",
     "text": [
      "Epoch: 20, loss: 0.15305476460572598\n",
      "Evaluating"
     ]
    },
    {
     "name": "stderr",
     "output_type": "stream",
     "text": [
      "Testing Progress: 100%|██████████| 16246/16246 [01:33<00:00, 174.12it/s]\n",
      "Testing Progress: 100%|██████████| 16246/16246 [01:29<00:00, 181.45it/s]\n"
     ]
    },
    {
     "name": "stdout",
     "output_type": "stream",
     "text": [
      "epoch:20, time: 6226.678546(s), valid (NDCG@10: 0.6538, HR@10: 0.8647), test (NDCG@10: 0.6730, HR@10: 0.8764)\n"
     ]
    },
    {
     "name": "stderr",
     "output_type": "stream",
     "text": [
      "Epoch 21/30: 100%|██████████| 6720/6720 [05:17<00:00, 21.20it/s, loss=0.152] \n"
     ]
    },
    {
     "name": "stdout",
     "output_type": "stream",
     "text": [
      "Epoch: 21, loss: 0.15197079409789738\n",
      "Evaluating"
     ]
    },
    {
     "name": "stderr",
     "output_type": "stream",
     "text": [
      "Testing Progress: 100%|██████████| 16246/16246 [01:31<00:00, 176.95it/s]\n",
      "Testing Progress: 100%|██████████| 16246/16246 [01:34<00:00, 172.55it/s]\n"
     ]
    },
    {
     "name": "stdout",
     "output_type": "stream",
     "text": [
      "epoch:21, time: 6543.721094(s), valid (NDCG@10: 0.6515, HR@10: 0.8612), test (NDCG@10: 0.6688, HR@10: 0.8717)\n"
     ]
    },
    {
     "name": "stderr",
     "output_type": "stream",
     "text": [
      "Epoch 22/30: 100%|██████████| 6720/6720 [05:30<00:00, 20.33it/s, loss=0.151]\n"
     ]
    },
    {
     "name": "stdout",
     "output_type": "stream",
     "text": [
      "Epoch: 22, loss: 0.15145730432677304\n",
      "Evaluating"
     ]
    },
    {
     "name": "stderr",
     "output_type": "stream",
     "text": [
      "Testing Progress: 100%|██████████| 16246/16246 [01:38<00:00, 164.63it/s]\n",
      "Testing Progress: 100%|██████████| 16246/16246 [01:35<00:00, 170.38it/s]\n"
     ]
    },
    {
     "name": "stdout",
     "output_type": "stream",
     "text": [
      "epoch:22, time: 6874.208281(s), valid (NDCG@10: 0.6496, HR@10: 0.8625), test (NDCG@10: 0.6693, HR@10: 0.8739)\n"
     ]
    },
    {
     "name": "stderr",
     "output_type": "stream",
     "text": [
      "Epoch 23/30: 100%|██████████| 6720/6720 [04:50<00:00, 23.11it/s, loss=0.151]\n"
     ]
    },
    {
     "name": "stdout",
     "output_type": "stream",
     "text": [
      "Epoch: 23, loss: 0.1509868294222369\n",
      "Evaluating"
     ]
    },
    {
     "name": "stderr",
     "output_type": "stream",
     "text": [
      "Testing Progress: 100%|██████████| 16246/16246 [01:34<00:00, 171.94it/s]\n",
      "Testing Progress: 100%|██████████| 16246/16246 [01:38<00:00, 165.41it/s]\n"
     ]
    },
    {
     "name": "stdout",
     "output_type": "stream",
     "text": [
      "epoch:23, time: 7164.969847(s), valid (NDCG@10: 0.6452, HR@10: 0.8571), test (NDCG@10: 0.6651, HR@10: 0.8691)\n"
     ]
    },
    {
     "name": "stderr",
     "output_type": "stream",
     "text": [
      "Epoch 24/30: 100%|██████████| 6720/6720 [05:12<00:00, 21.52it/s, loss=0.151] \n"
     ]
    },
    {
     "name": "stdout",
     "output_type": "stream",
     "text": [
      "Epoch: 24, loss: 0.15050828551396817\n",
      "Evaluating"
     ]
    },
    {
     "name": "stderr",
     "output_type": "stream",
     "text": [
      "Testing Progress: 100%|██████████| 16246/16246 [01:30<00:00, 179.66it/s]\n",
      "Testing Progress: 100%|██████████| 16246/16246 [01:29<00:00, 180.81it/s]\n"
     ]
    },
    {
     "name": "stdout",
     "output_type": "stream",
     "text": [
      "epoch:24, time: 7477.220126(s), valid (NDCG@10: 0.6457, HR@10: 0.8567), test (NDCG@10: 0.6654, HR@10: 0.8686)\n"
     ]
    },
    {
     "name": "stderr",
     "output_type": "stream",
     "text": [
      "Epoch 25/30: 100%|██████████| 6720/6720 [04:50<00:00, 23.16it/s, loss=0.15] \n"
     ]
    },
    {
     "name": "stdout",
     "output_type": "stream",
     "text": [
      "Epoch: 25, loss: 0.1497451143971245\n",
      "Evaluating"
     ]
    },
    {
     "name": "stderr",
     "output_type": "stream",
     "text": [
      "Testing Progress: 100%|██████████| 16246/16246 [01:35<00:00, 170.97it/s]\n",
      "Testing Progress: 100%|██████████| 16246/16246 [01:36<00:00, 168.88it/s]\n"
     ]
    },
    {
     "name": "stdout",
     "output_type": "stream",
     "text": [
      "epoch:25, time: 7767.356905(s), valid (NDCG@10: 0.6427, HR@10: 0.8558), test (NDCG@10: 0.6608, HR@10: 0.8676)\n"
     ]
    },
    {
     "name": "stderr",
     "output_type": "stream",
     "text": [
      "Epoch 26/30: 100%|██████████| 6720/6720 [05:05<00:00, 22.01it/s, loss=0.149]\n"
     ]
    },
    {
     "name": "stdout",
     "output_type": "stream",
     "text": [
      "Epoch: 26, loss: 0.14938745667681186\n",
      "Evaluating"
     ]
    },
    {
     "name": "stderr",
     "output_type": "stream",
     "text": [
      "Testing Progress: 100%|██████████| 16246/16246 [01:28<00:00, 184.49it/s]\n",
      "Testing Progress: 100%|██████████| 16246/16246 [01:26<00:00, 186.96it/s]\n"
     ]
    },
    {
     "name": "stdout",
     "output_type": "stream",
     "text": [
      "epoch:26, time: 8072.714146(s), valid (NDCG@10: 0.6426, HR@10: 0.8563), test (NDCG@10: 0.6606, HR@10: 0.8685)\n"
     ]
    },
    {
     "name": "stderr",
     "output_type": "stream",
     "text": [
      "Epoch 27/30: 100%|██████████| 6720/6720 [04:45<00:00, 23.57it/s, loss=0.149]\n"
     ]
    },
    {
     "name": "stdout",
     "output_type": "stream",
     "text": [
      "Epoch: 27, loss: 0.14869824464909642\n",
      "Evaluating"
     ]
    },
    {
     "name": "stderr",
     "output_type": "stream",
     "text": [
      "Testing Progress: 100%|██████████| 16246/16246 [01:27<00:00, 185.33it/s]\n",
      "Testing Progress: 100%|██████████| 16246/16246 [01:26<00:00, 188.30it/s]\n"
     ]
    },
    {
     "name": "stdout",
     "output_type": "stream",
     "text": [
      "epoch:27, time: 8357.869861(s), valid (NDCG@10: 0.6356, HR@10: 0.8496), test (NDCG@10: 0.6573, HR@10: 0.8650)\n"
     ]
    },
    {
     "name": "stderr",
     "output_type": "stream",
     "text": [
      "Epoch 28/30: 100%|██████████| 6720/6720 [04:56<00:00, 22.68it/s, loss=0.148] \n"
     ]
    },
    {
     "name": "stdout",
     "output_type": "stream",
     "text": [
      "Epoch: 28, loss: 0.14797178107934694\n",
      "Evaluating"
     ]
    },
    {
     "name": "stderr",
     "output_type": "stream",
     "text": [
      "Testing Progress: 100%|██████████| 16246/16246 [01:27<00:00, 186.59it/s]\n",
      "Testing Progress: 100%|██████████| 16246/16246 [01:26<00:00, 187.07it/s]\n"
     ]
    },
    {
     "name": "stdout",
     "output_type": "stream",
     "text": [
      "epoch:28, time: 8654.148785(s), valid (NDCG@10: 0.6293, HR@10: 0.8483), test (NDCG@10: 0.6498, HR@10: 0.8619)\n"
     ]
    },
    {
     "name": "stderr",
     "output_type": "stream",
     "text": [
      "Testing Progress: 100%|██████████| 16246/16246 [01:36<00:00, 168.71it/s]148]\n",
      "Testing Progress: 100%|██████████| 16246/16246 [01:35<00:00, 170.49it/s]"
     ]
    },
    {
     "name": "stdout",
     "output_type": "stream",
     "text": [
      "epoch:30, time: 9232.966684(s), valid (NDCG@10: 0.6336, HR@10: 0.8472), test (NDCG@10: 0.6525, HR@10: 0.8617)\n",
      "best epoch: 7, best NDCG@10: 0.7431923423428468, best HR@10: 0.910931921703804\n",
      "Done\n"
     ]
    },
    {
     "name": "stderr",
     "output_type": "stream",
     "text": [
      "\n"
     ]
    }
   ],
   "source": [
    "T = 0.0\n",
    "t0 = time.time()\n",
    "best_val_HR = 0.0\n",
    "best_val_NDCG = 0.0\n",
    "best_HR = 0.0\n",
    "best_NDCG = 0.0\n",
    "best_epoch = -1\n",
    "best_state_dict = None\n",
    "\n",
    "for epoch in range(epoch_start_idx, args.num_epochs + 1):\n",
    "    if args.inference_only: break  # just to decrease identition\n",
    "    dataloader = DataLoader(dataset_train, batch_size=args.batch_size, shuffle=True)\n",
    "    step = 0\n",
    "    epoch_loss = 0.0\n",
    "    train_loop = tqdm(dataloader, desc=\"Training Progress\")\n",
    "    for data in train_loop:\n",
    "        step += 1\n",
    "        user_id, history_items, history_items_len, target_item_id, \\\n",
    "            user_features, item_features, label, cold_item = data\n",
    "\n",
    "        logits = model(user_id, target_item_id, history_items, history_items_len, user_features, item_features)\n",
    "\n",
    "        adam_optimizer.zero_grad()\n",
    "\n",
    "        loss = bce_criterion(logits, label)\n",
    "        if 'item_embedding' in model.state_dict().keys():\n",
    "            for param in model.item_embedding.parameters():\n",
    "                loss += args.l2_emb * torch.norm(param)\n",
    "        if 'user_embedding' in model.state_dict().keys():\n",
    "            for param in model.user_embedding.parameters():\n",
    "                loss += args.l2_emb * torch.norm(param)\n",
    "\n",
    "        loss.backward()\n",
    "        adam_optimizer.step()\n",
    "        epoch_loss += loss.item()\n",
    "        train_loop.set_description(\"Epoch {}/{}\".format(epoch, args.num_epochs))\n",
    "        train_loop.set_postfix(loss=epoch_loss/step)\n",
    "    print(\"Epoch: {}, loss: {}\".format(epoch, epoch_loss / step))\n",
    "\n",
    "    if epoch % args.val_freq == 0:\n",
    "        model.eval()\n",
    "        t1 = time.time() - t0\n",
    "        T += t1\n",
    "        print('Evaluating', end='')\n",
    "        t_test = evaluate(model, dataset_test, args)\n",
    "        t_valid = evaluate(model, dataset_valid, args)\n",
    "        print('epoch:%d, time: %f(s), valid (NDCG@10: %.4f, HR@10: %.4f), test (NDCG@10: %.4f, HR@10: %.4f)'\n",
    "              % (epoch, T, t_valid[0], t_valid[1], t_test[0], t_test[1]))\n",
    "\n",
    "        if t_valid[1] > best_val_HR:\n",
    "            best_val_HR = t_valid[1]\n",
    "            best_HR = t_test[1]\n",
    "            best_NDCG = t_test[0]\n",
    "            best_epoch = epoch\n",
    "            best_state_dict = deepcopy(model.state_dict())\n",
    "\n",
    "        f.write(str(t_valid) + ' ' + str(t_test) + '\\n')\n",
    "        f.flush()\n",
    "        t0 = time.time()\n",
    "        model.train()\n",
    "\n",
    "    if epoch % args.save_freq == 0 or epoch == args.num_epochs:\n",
    "        folder = save_dir\n",
    "        fname = 'epoch={}.lr={}.embed_dim={}.maxlen={}.l2_emb={}.pth'\n",
    "        fname = fname.format(epoch, args.lr, args.embed_dim,\n",
    "                             args.maxlen, args.l2_emb)\n",
    "        torch.save(model.state_dict(), os.path.join(folder, fname))\n",
    "\n",
    "f.write(\"best epoch: {}, best NDCG@10: {}, best HR@10: {}\".format(best_epoch, best_NDCG, best_HR) + '\\n')\n",
    "f.close()\n",
    "print(\"best epoch: {}, best NDCG@10: {}, best HR@10: {}\".format(best_epoch, best_NDCG, best_HR))\n",
    "torch.save(best_state_dict, os.path.join(save_dir, 'best.pth'))\n",
    "print(\"Done\")"
   ]
  },
  {
   "cell_type": "code",
   "execution_count": 22,
   "id": "95201a73-784a-4568-a010-70c8c93a4c88",
   "metadata": {
    "tags": []
   },
   "outputs": [],
   "source": [
    "from models.DSSM import DSSM_PTCR, DSSM_SASRec_PTCR\n",
    "from utils.utils import evaluate_prompt\n",
    "from data.MyDataset import PTCRDataset\n",
    "\n",
    "parser = argparse.ArgumentParser()\n",
    "parser.add_argument('--dataset', default='KuaiRand', type=str)\n",
    "parser.add_argument('--train_dir', default='DSSM_SASRec_PTCR', type=str)\n",
    "parser.add_argument('--model_name', default='DSSM_SASRec_PTCR', type=str)\n",
    "parser.add_argument('--exp_name', default='base', type=str)\n",
    "parser.add_argument('--batch_size', default=128, type=int)\n",
    "parser.add_argument('--lr', default=0.0005, type=float)\n",
    "parser.add_argument('--maxlen', default=50, type=int)\n",
    "parser.add_argument('--embed_dim', default=16, type=int)\n",
    "parser.add_argument('--num_epochs', default=10, type=int)\n",
    "parser.add_argument('--num_test_neg_item', default=100, type=int)\n",
    "parser.add_argument('--dropout_rate', default=0.5, type=float)\n",
    "parser.add_argument('--l2_emb', default=0.0, type=float)\n",
    "parser.add_argument('--device', default='cpu', type=str)\n",
    "parser.add_argument('--inference_only', default=False, type=str2bool)\n",
    "parser.add_argument('--state_dict_path', default=None, type=str)\n",
    "parser.add_argument('--pretrain_model_path', default='KuaiRand_DSSM_SASRec/base/best.pth', type=str)\n",
    "parser.add_argument('--alpha', default=0.01, type=float)\n",
    "parser.add_argument('--beta', default=0.01, type=float)\n",
    "parser.add_argument('--save_freq', default=5, type=int)\n",
    "parser.add_argument('--val_freq', default=1, type=int)\n",
    "\n",
    "args = parser.parse_known_args()[0]\n",
    "save_dir = os.path.join(args.dataset + '_' + args.train_dir, args.exp_name)\n",
    "if not os.path.isdir(args.dataset + '_' + args.train_dir):\n",
    "    os.makedirs(args.dataset + '_' + args.train_dir)\n",
    "if not os.path.isdir(save_dir):\n",
    "    os.makedirs(save_dir)\n",
    "with open(os.path.join(save_dir, 'args.txt'), 'a') as f:\n",
    "    f.write(time.strftime(\"%Y-%m-%d %H:%M:%S\", time.localtime()) + '\\n')\n",
    "    f.write('\\n'.join([str(k) + ',' + str(v) for k, v in sorted(vars(args).items(), key=lambda x: x[0])]))\n",
    "f.close()"
   ]
  },
  {
   "cell_type": "code",
   "execution_count": 23,
   "id": "5001ba88-ad62-400e-a89f-160f8c9b8556",
   "metadata": {
    "tags": []
   },
   "outputs": [
    {
     "name": "stdout",
     "output_type": "stream",
     "text": [
      "number of users: 27285 number of items: 7583\n"
     ]
    }
   ],
   "source": [
    "# dataset\n",
    "dataset_train = PTCRDataset(data_dir='data/' + args.dataset,\n",
    "                            max_length=args.maxlen, mode='train', device=args.device)\n",
    "dataset_valid = PTCRDataset(data_dir='data/' + args.dataset,\n",
    "                            max_length=args.maxlen, mode='val', neg_num=args.num_test_neg_item, device=args.device)\n",
    "dataset_test = PTCRDataset(data_dir='data/' + args.dataset,\n",
    "                           max_length=args.maxlen, mode='test', neg_num=args.num_test_neg_item, device=args.device)\n",
    "\n",
    "usernum = dataset_train.user_num\n",
    "itemnum = dataset_train.item_num\n",
    "user_features_dim = dataset_train.user_features_dim\n",
    "item_features_dim = dataset_train.item_features_dim\n",
    "print('number of users: %d' % usernum, 'number of items: %d' % itemnum)\n",
    "\n",
    "config = {'embed_dim': args.embed_dim,\n",
    "          'dim_config': {'item_id': itemnum + 1, 'user_id': usernum + 1,\n",
    "                         'item_feature': item_features_dim, 'user_feature': user_features_dim},\n",
    "          'prompt_embed_dim': args.embed_dim,\n",
    "          'prompt_net_hidden_size': args.embed_dim,\n",
    "          'device': args.device,\n",
    "          'maxlen': args.maxlen\n",
    "          }\n",
    "dataset_meta_data = json.load(open(os.path.join('data', 'dataset_meta_data.json'), 'r'))\n",
    "config['item_feature'] = dataset_meta_data[args.dataset]['item_feature']\n",
    "config['user_feature'] = dataset_meta_data[args.dataset]['user_feature']\n",
    "\n",
    "if args.model_name == \"DSSM_PTCR\":\n",
    "    model = DSSM_PTCR(config).to(args.device)\n",
    "elif args.model_name == \"DSSM_SASRec_PTCR\":\n",
    "    model = DSSM_SASRec_PTCR(config).to(args.device)\n",
    "else:\n",
    "    raise Exception(\"No such model!\")\n",
    "\n",
    "f = open(os.path.join(save_dir, 'log.txt'), 'a')\n",
    "f.write(time.strftime(\"%Y-%m-%d %H:%M:%S\", time.localtime()) + ' model: ' + args.model_name + '\\n')\n",
    "\n",
    "for name, param in model.named_parameters():\n",
    "    try:\n",
    "        torch.nn.init.xavier_normal_(param.data)\n",
    "    except:\n",
    "        pass  # just ignore those failed init layers\n",
    "\n",
    "model.train()  # enable model training\n",
    "\n",
    "epoch_start_idx = 1\n",
    "if args.state_dict_path is not None:\n",
    "    try:\n",
    "        model.load_state_dict(torch.load(args.state_dict_path, map_location=torch.device(args.device)))\n",
    "        tail = args.state_dict_path[args.state_dict_path.find('epoch=') + 6:]\n",
    "        epoch_start_idx = int(tail[:tail.find('.')]) + 1\n",
    "    except:  # in case your pytorch version is not 1.6 etc., pls debug by pdb if load weights failed\n",
    "        print('failed loading state_dicts, pls check file path: ', end=\"\")\n",
    "        print(args.state_dict_path)\n",
    "        print('pdb enabled for your quick check, pls type exit() if you do not need it')\n",
    "        import pdb\n",
    "\n",
    "        pdb.set_trace()\n",
    "\n",
    "# 加载 backbone\n",
    "model.load_and_freeze_backbone(args.pretrain_model_path)\n",
    "\n",
    "if args.inference_only:\n",
    "    model.eval()\n",
    "    t_test = evaluate_prompt(model, dataset_test, args)\n",
    "    print('test (NDCG@10: %.4f, HR@10: %.4f)' % (t_test[0], t_test[1]))\n",
    "\n",
    "bce_criterion = torch.nn.BCEWithLogitsLoss()  # torch.nn.BCELoss()\n",
    "# backbone冻结参数不参与训练\n",
    "adam_optimizer = torch.optim.Adam(filter(lambda p: p.requires_grad, model.parameters()), lr=args.lr,\n",
    "                                  betas=(0.9, 0.98))"
   ]
  },
  {
   "cell_type": "code",
   "execution_count": 25,
   "id": "e0d8bb41-9d4c-48ba-bc42-e02915edd42d",
   "metadata": {},
   "outputs": [
    {
     "name": "stderr",
     "output_type": "stream",
     "text": [
      "Epoch 1/10: 100%|██████████| 6720/6720 [05:45<00:00, 19.45it/s, loss=0.256]\n"
     ]
    },
    {
     "name": "stdout",
     "output_type": "stream",
     "text": [
      "Epoch: 1, loss: 0.2561366929295695\n",
      "Evaluating"
     ]
    },
    {
     "name": "stderr",
     "output_type": "stream",
     "text": [
      "Validating Progress: 100%|██████████| 16246/16246 [01:43<00:00, 157.24it/s]\n",
      "Testing Progress: 100%|██████████| 16246/16246 [01:44<00:00, 155.65it/s]\n"
     ]
    },
    {
     "name": "stdout",
     "output_type": "stream",
     "text": [
      "epoch:1, time: 345.464198(s), valid (NDCG@10: 0.7352, HR@10: 0.9013), test (NDCG@10: 0.7430, HR@10: 0.9091)\n"
     ]
    },
    {
     "name": "stderr",
     "output_type": "stream",
     "text": [
      "Epoch 2/10: 100%|██████████| 6720/6720 [06:29<00:00, 17.24it/s, loss=0.17] \n"
     ]
    },
    {
     "name": "stdout",
     "output_type": "stream",
     "text": [
      "Epoch: 2, loss: 0.16968048437210242\n",
      "Evaluating"
     ]
    },
    {
     "name": "stderr",
     "output_type": "stream",
     "text": [
      "Validating Progress: 100%|██████████| 16246/16246 [01:42<00:00, 158.41it/s]\n",
      "Testing Progress: 100%|██████████| 16246/16246 [01:42<00:00, 158.52it/s]\n"
     ]
    },
    {
     "name": "stdout",
     "output_type": "stream",
     "text": [
      "epoch:2, time: 735.331307(s), valid (NDCG@10: 0.7631, HR@10: 0.9138), test (NDCG@10: 0.7637, HR@10: 0.9127)\n"
     ]
    },
    {
     "name": "stderr",
     "output_type": "stream",
     "text": [
      "Epoch 3/10: 100%|██████████| 6720/6720 [05:45<00:00, 19.43it/s, loss=0.164]\n"
     ]
    },
    {
     "name": "stdout",
     "output_type": "stream",
     "text": [
      "Epoch: 3, loss: 0.1637574962373557\n",
      "Evaluating"
     ]
    },
    {
     "name": "stderr",
     "output_type": "stream",
     "text": [
      "Validating Progress: 100%|██████████| 16246/16246 [01:43<00:00, 156.70it/s]\n",
      "Testing Progress: 100%|██████████| 16246/16246 [01:40<00:00, 161.11it/s]\n"
     ]
    },
    {
     "name": "stdout",
     "output_type": "stream",
     "text": [
      "epoch:3, time: 1081.241279(s), valid (NDCG@10: 0.7831, HR@10: 0.9123), test (NDCG@10: 0.7944, HR@10: 0.9143)\n"
     ]
    },
    {
     "name": "stderr",
     "output_type": "stream",
     "text": [
      "Epoch 4/10: 100%|██████████| 6720/6720 [05:42<00:00, 19.62it/s, loss=0.157]\n"
     ]
    },
    {
     "name": "stdout",
     "output_type": "stream",
     "text": [
      "Epoch: 4, loss: 0.15680623993532555\n",
      "Evaluating"
     ]
    },
    {
     "name": "stderr",
     "output_type": "stream",
     "text": [
      "Validating Progress: 100%|██████████| 16246/16246 [01:42<00:00, 158.02it/s]\n",
      "Testing Progress: 100%|██████████| 16246/16246 [01:41<00:00, 159.29it/s]\n"
     ]
    },
    {
     "name": "stdout",
     "output_type": "stream",
     "text": [
      "epoch:4, time: 1423.708255(s), valid (NDCG@10: 0.8064, HR@10: 0.9187), test (NDCG@10: 0.8135, HR@10: 0.9213)\n"
     ]
    },
    {
     "name": "stderr",
     "output_type": "stream",
     "text": [
      "Epoch 5/10: 100%|██████████| 6720/6720 [05:44<00:00, 19.50it/s, loss=0.152]\n"
     ]
    },
    {
     "name": "stdout",
     "output_type": "stream",
     "text": [
      "Epoch: 5, loss: 0.15195455833316027\n",
      "Evaluating"
     ]
    },
    {
     "name": "stderr",
     "output_type": "stream",
     "text": [
      "Validating Progress: 100%|██████████| 16246/16246 [01:43<00:00, 157.19it/s]\n",
      "Testing Progress: 100%|██████████| 16246/16246 [01:42<00:00, 159.04it/s]\n"
     ]
    },
    {
     "name": "stdout",
     "output_type": "stream",
     "text": [
      "epoch:5, time: 1768.366907(s), valid (NDCG@10: 0.7612, HR@10: 0.9061), test (NDCG@10: 0.7767, HR@10: 0.9012)\n"
     ]
    },
    {
     "name": "stderr",
     "output_type": "stream",
     "text": [
      "Epoch 6/20: 100%|██████████| 6720/6720 [05:38<00:00, 19.84it/s, loss=0.147]\n"
     ]
    },
    {
     "name": "stdout",
     "output_type": "stream",
     "text": [
      "Epoch: 6, loss: 0.14687073746795898\n",
      "Evaluating"
     ]
    },
    {
     "name": "stderr",
     "output_type": "stream",
     "text": [
      "Validating Progress: 100%|██████████| 16246/16246 [01:44<00:00, 154.82it/s]\n",
      "Testing Progress: 100%|██████████| 16246/16246 [01:46<00:00, 152.64it/s]\n"
     ]
    },
    {
     "name": "stdout",
     "output_type": "stream",
     "text": [
      "epoch:6, time: 2107.037555(s), valid (NDCG@10: 0.7323, HR@10: 0.8795), test (NDCG@10: 0.7217, HR@10: 0.8733)\n"
     ]
    },
    {
     "name": "stderr",
     "output_type": "stream",
     "text": [
      "Epoch 7/10: 100%|██████████| 6720/6720 [05:50<00:00, 19.17it/s, loss=0.144]\n"
     ]
    },
    {
     "name": "stdout",
     "output_type": "stream",
     "text": [
      "Epoch: 7, loss: 0.14402861526247024\n",
      "Evaluating"
     ]
    },
    {
     "name": "stderr",
     "output_type": "stream",
     "text": [
      "Validating Progress: 100%|██████████| 16246/16246 [01:46<00:00, 151.91it/s]\n",
      "Testing Progress: 100%|██████████| 16246/16246 [01:43<00:00, 156.79it/s]\n"
     ]
    },
    {
     "name": "stdout",
     "output_type": "stream",
     "text": [
      "epoch:7, time: 2457.548216(s), valid (NDCG@10: 0.7012, HR@10: 0.8135), test (NDCG@10: 0.7048, HR@10: 0.8156)\n"
     ]
    },
    {
     "name": "stderr",
     "output_type": "stream",
     "text": [
      "Epoch 8/10: 100%|██████████| 6720/6720 [05:42<00:00, 19.61it/s, loss=0.141]\n"
     ]
    },
    {
     "name": "stdout",
     "output_type": "stream",
     "text": [
      "Epoch: 8, loss: 0.14064707492555803\n",
      "Evaluating"
     ]
    },
    {
     "name": "stderr",
     "output_type": "stream",
     "text": [
      "Validating Progress: 100%|██████████| 16246/16246 [01:44<00:00, 155.46it/s]\n",
      "Testing Progress: 100%|██████████| 16246/16246 [01:42<00:00, 158.83it/s]\n"
     ]
    },
    {
     "name": "stdout",
     "output_type": "stream",
     "text": [
      "epoch:8, time: 2800.162789(s), valid (NDCG@10: 0.5401, HR@10: 0.7451), test (NDCG@10: 0.5302, HR@10: 0.7332)\n"
     ]
    },
    {
     "name": "stderr",
     "output_type": "stream",
     "text": [
      "Epoch 9/10: 100%|██████████| 6720/6720 [05:42<00:00, 19.62it/s, loss=0.138]\n"
     ]
    },
    {
     "name": "stdout",
     "output_type": "stream",
     "text": [
      "Epoch: 9, loss: 0.13817215912110573\n",
      "Evaluating"
     ]
    },
    {
     "name": "stderr",
     "output_type": "stream",
     "text": [
      "Validating Progress: 100%|██████████| 16246/16246 [01:44<00:00, 155.47it/s]\n",
      "Testing Progress: 100%|██████████| 16246/16246 [01:42<00:00, 158.75it/s]\n"
     ]
    },
    {
     "name": "stdout",
     "output_type": "stream",
     "text": [
      "epoch:9, time: 3142.653582(s), valid (NDCG@10: 0.3895, HR@10: 0.6221), test (NDCG@10: 0.3778, HR@10: 0.6090)\n"
     ]
    },
    {
     "name": "stderr",
     "output_type": "stream",
     "text": [
      "Epoch 10/20: 100%|██████████| 6720/6720 [05:53<00:00, 19.01it/s, loss=0.135]\n"
     ]
    },
    {
     "name": "stdout",
     "output_type": "stream",
     "text": [
      "Epoch: 10, loss: 0.13539918167738332\n",
      "Evaluating"
     ]
    },
    {
     "name": "stderr",
     "output_type": "stream",
     "text": [
      "Validating Progress: 100%|██████████| 16246/16246 [01:45<00:00, 154.41it/s]\n",
      "Testing Progress: 100%|██████████| 16246/16246 [01:43<00:00, 156.32it/s]\n"
     ]
    },
    {
     "name": "stdout",
     "output_type": "stream",
     "text": [
      "epoch:10, time: 3496.210682(s), valid (NDCG@10: 0.2891, HR@10: 0.5161), test (NDCG@10: 0.2741, HR@10: 0.4906)\n",
      "best epoch: 4, best NDCG@10: 0.813525013478219, best HR@10: 0.9213344823341130\n",
      "Done\n"
     ]
    }
   ],
   "source": [
    "from torch.nn import functional as F\n",
    "\n",
    "T = 0.0\n",
    "t0 = time.time()\n",
    "best_val_HR = 0.0\n",
    "best_val_NDCG = 0.0\n",
    "best_HR = 0.0\n",
    "best_NDCG = 0.0\n",
    "best_epoch = -1\n",
    "best_state_dict = None\n",
    "\n",
    "for epoch in range(epoch_start_idx, args.num_epochs + 1):\n",
    "    if args.inference_only: break  # just to decrease identition\n",
    "    dataloader = DataLoader(dataset_train, batch_size=args.batch_size, shuffle=True)\n",
    "    step = 0\n",
    "    epoch_loss = 0.0\n",
    "    train_loop = tqdm(dataloader, desc=\"Training Progress\")\n",
    "\n",
    "    for data in train_loop:\n",
    "        step += 1\n",
    "        user_id, history_items, history_items_len, target_item_id, \\\n",
    "        user_features, item_features, label, cold_item, \\\n",
    "        item_pos_feedback, item_pos_feedback_len, item_neg_feedback, item_neg_feedback_len = data\n",
    "\n",
    "        logits, loss_pfpe = model(user_id, target_item_id, history_items, history_items_len, user_features,\n",
    "                                  item_features,\n",
    "                                  item_pos_feedback, item_pos_feedback_len, item_neg_feedback,\n",
    "                                  item_neg_feedback_len)\n",
    "        adam_optimizer.zero_grad()\n",
    "        loss = bce_criterion(logits, label)\n",
    "        loss += args.alpha * loss_pfpe.sum(dim=1).mean(dim=0)\n",
    "\n",
    "        # fape loss\n",
    "        selected_indices = (label == 1) & (cold_item == 1)\n",
    "        pos_cold_item_logits = logits[selected_indices]\n",
    "        selected_indices = (label == 0) & (cold_item == 0)\n",
    "        neg_hot_item_logits = logits[selected_indices]\n",
    "        loss_fape = F.softplus(-(pos_cold_item_logits.sum() * len(neg_hot_item_logits) -\n",
    "                                 neg_hot_item_logits.sum() * len(pos_cold_item_logits)), beta=1, threshold=10)\n",
    "\n",
    "        loss += args.beta * loss_fape\n",
    "\n",
    "        loss.backward()\n",
    "        adam_optimizer.step()\n",
    "        epoch_loss += loss.item()\n",
    "        train_loop.set_description(\"Epoch {}/{}\".format(epoch, args.num_epochs))\n",
    "        train_loop.set_postfix(loss=epoch_loss/step)\n",
    "\n",
    "    print(\"Epoch: {}, loss: {}\".format(epoch, epoch_loss / step))\n",
    "\n",
    "    if epoch % args.val_freq == 0:\n",
    "        model.eval()\n",
    "        t1 = time.time() - t0\n",
    "        T += t1\n",
    "        print('Evaluating', end='')\n",
    "        t_valid = evaluate_prompt(model, dataset_valid, args, 'val')\n",
    "        t_test = evaluate_prompt(model, dataset_test, args, 'test')\n",
    "        print('epoch:%d, time: %f(s), valid (NDCG@10: %.4f, HR@10: %.4f), test (NDCG@10: %.4f, HR@10: %.4f)'\n",
    "              % (epoch, T, t_valid[0], t_valid[1], t_test[0], t_test[1]))\n",
    "\n",
    "        if t_valid[1] > best_val_HR:\n",
    "            best_val_HR = t_valid[1]\n",
    "            best_HR = t_test[1]\n",
    "            best_NDCG = t_test[0]\n",
    "            best_epoch = epoch\n",
    "            best_state_dict = deepcopy(model.state_dict())\n",
    "\n",
    "        f.write(str(t_valid) + ' ' + str(t_test) + '\\n')\n",
    "        f.flush()\n",
    "        t0 = time.time()\n",
    "        model.train()\n",
    "\n",
    "    if epoch % args.save_freq == 0 or epoch == args.num_epochs:\n",
    "        folder = save_dir\n",
    "        fname = 'epoch={}.lr={}.embed_dim={}.maxlen={}.alpha={}.beta={}.pth'\n",
    "        fname = fname.format(epoch, args.lr, args.embed_dim,\n",
    "                             args.maxlen, args.alpha, args.beta)\n",
    "        torch.save(model.state_dict(), os.path.join(folder, fname))\n",
    "        torch.save(best_state_dict, os.path.join(save_dir, 'best.pth'))\n",
    "\n",
    "f.write(\"best epoch: {}, best NDCG@10: {}, best HR@10: {}\".format(best_epoch, best_NDCG, best_HR) + '\\n')\n",
    "f.close()\n",
    "print(\"best epoch: {}, best NDCG@10: {}, best HR@10: {}\".format(best_epoch, best_NDCG, best_HR))\n",
    "torch.save(best_state_dict, os.path.join(save_dir, 'best.pth'))\n",
    "print(\"Done\")\n"
   ]
  },
  {
   "cell_type": "code",
   "execution_count": null,
   "id": "7140bcd2-6ecf-47ec-8891-93ae238c415d",
   "metadata": {},
   "outputs": [],
   "source": []
  }
 ],
 "metadata": {
  "kernelspec": {
   "display_name": "Python 3 (ipykernel)",
   "language": "python",
   "name": "python3"
  },
  "language_info": {
   "codemirror_mode": {
    "name": "ipython",
    "version": 3
   },
   "file_extension": ".py",
   "mimetype": "text/x-python",
   "name": "python",
   "nbconvert_exporter": "python",
   "pygments_lexer": "ipython3",
   "version": "3.8.10"
  }
 },
 "nbformat": 4,
 "nbformat_minor": 5
}
